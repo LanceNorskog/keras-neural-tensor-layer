{
  "nbformat": 4,
  "nbformat_minor": 0,
  "metadata": {
    "colab": {
      "name": "NTN test 1.ipynb",
      "version": "0.3.2",
      "provenance": [],
      "collapsed_sections": []
    },
    "kernelspec": {
      "name": "python3",
      "display_name": "Python 3"
    },
    "accelerator": "GPU"
  },
  "cells": [
    {
      "cell_type": "code",
      "metadata": {
        "id": "lMZtCJb7hL4e",
        "colab_type": "code",
        "outputId": "aeb67b4e-d570-4ffd-fa31-2c28b30b854c",
        "colab": {
          "base_uri": "https://localhost:8080/",
          "height": 104
        }
      },
      "source": [
        "!pip uninstall -q -y tensorflow\n",
        "!pip uninstall -q -y keras\n",
        "!pip uninstall -q -y numpy\n",
        "!pip uninstall -q -y scipy\n",
        "!pip uninstall -q -y textgenrnn stable-baselines magenta datascience albumentations\n"
      ],
      "execution_count": 0,
      "outputs": [
        {
          "output_type": "stream",
          "text": [
            "\u001b[33mWARNING: Skipping textgenrnn as it is not installed.\u001b[0m\n",
            "\u001b[33mWARNING: Skipping stable-baselines as it is not installed.\u001b[0m\n",
            "\u001b[33mWARNING: Skipping magenta as it is not installed.\u001b[0m\n",
            "\u001b[33mWARNING: Skipping datascience as it is not installed.\u001b[0m\n",
            "\u001b[33mWARNING: Skipping albumentations as it is not installed.\u001b[0m\n"
          ],
          "name": "stdout"
        }
      ]
    },
    {
      "cell_type": "code",
      "metadata": {
        "id": "oY7CPhUrhZSz",
        "colab_type": "code",
        "outputId": "73375396-5dad-453b-9931-8997e4cb4d26",
        "colab": {
          "base_uri": "https://localhost:8080/",
          "height": 139
        }
      },
      "source": [
        "!rm -rf keras-neural-tensor-layer && git clone https://github.com/LanceNorskog/keras-neural-tensor-layer.git\n",
        "%cd keras-neural-tensor-layer"
      ],
      "execution_count": 0,
      "outputs": [
        {
          "output_type": "stream",
          "text": [
            "Cloning into 'keras-neural-tensor-layer'...\n",
            "remote: Enumerating objects: 3, done.\u001b[K\n",
            "remote: Counting objects:  33% (1/3)\u001b[K\rremote: Counting objects:  66% (2/3)\u001b[K\rremote: Counting objects: 100% (3/3)\u001b[K\rremote: Counting objects: 100% (3/3), done.\u001b[K\n",
            "remote: Compressing objects:  33% (1/3)\u001b[K\rremote: Compressing objects:  66% (2/3)\u001b[K\rremote: Compressing objects: 100% (3/3)\u001b[K\rremote: Compressing objects: 100% (3/3), done.\u001b[K\n",
            "Unpacking objects:   2% (1/41)   \rUnpacking objects:   4% (2/41)   \rUnpacking objects:   7% (3/41)   \rUnpacking objects:   9% (4/41)   \rUnpacking objects:  12% (5/41)   \rUnpacking objects:  14% (6/41)   \rUnpacking objects:  17% (7/41)   \rUnpacking objects:  19% (8/41)   \rUnpacking objects:  21% (9/41)   \rUnpacking objects:  24% (10/41)   \rUnpacking objects:  26% (11/41)   \rUnpacking objects:  29% (12/41)   \rUnpacking objects:  31% (13/41)   \rUnpacking objects:  34% (14/41)   \rUnpacking objects:  36% (15/41)   \rUnpacking objects:  39% (16/41)   \rremote: Total 41 (delta 0), reused 1 (delta 0), pack-reused 38\u001b[K\n",
            "Unpacking objects:  41% (17/41)   \rUnpacking objects:  43% (18/41)   \rUnpacking objects:  46% (19/41)   \rUnpacking objects:  48% (20/41)   \rUnpacking objects:  51% (21/41)   \rUnpacking objects:  53% (22/41)   \rUnpacking objects:  56% (23/41)   \rUnpacking objects:  58% (24/41)   \rUnpacking objects:  60% (25/41)   \rUnpacking objects:  63% (26/41)   \rUnpacking objects:  65% (27/41)   \rUnpacking objects:  68% (28/41)   \rUnpacking objects:  70% (29/41)   \rUnpacking objects:  73% (30/41)   \rUnpacking objects:  75% (31/41)   \rUnpacking objects:  78% (32/41)   \rUnpacking objects:  80% (33/41)   \rUnpacking objects:  82% (34/41)   \rUnpacking objects:  85% (35/41)   \rUnpacking objects:  87% (36/41)   \rUnpacking objects:  90% (37/41)   \rUnpacking objects:  92% (38/41)   \rUnpacking objects:  95% (39/41)   \rUnpacking objects:  97% (40/41)   \rUnpacking objects: 100% (41/41)   \rUnpacking objects: 100% (41/41), done.\n",
            "/content/keras-neural-tensor-layer\n"
          ],
          "name": "stdout"
        }
      ]
    },
    {
      "cell_type": "code",
      "metadata": {
        "id": "3i7ntlmrheux",
        "colab_type": "code",
        "outputId": "8f0f004f-6f65-4cdf-833e-8572a6cf1167",
        "colab": {
          "base_uri": "https://localhost:8080/",
          "height": 1000
        }
      },
      "source": [
        "#!pip install -r requirements.txt\n",
        "#!rm -f *.pyc\n",
        "!pip install tensorflow\n",
        "!pip install keras"
      ],
      "execution_count": 0,
      "outputs": [
        {
          "output_type": "stream",
          "text": [
            "Collecting tensorflow\n",
            "\u001b[?25l  Downloading https://files.pythonhosted.org/packages/de/f0/96fb2e0412ae9692dbf400e5b04432885f677ad6241c088ccc5fe7724d69/tensorflow-1.14.0-cp36-cp36m-manylinux1_x86_64.whl (109.2MB)\n",
            "\u001b[K     |████████████████████████████████| 109.2MB 1.4MB/s \n",
            "\u001b[?25hRequirement already satisfied: protobuf>=3.6.1 in /usr/local/lib/python3.6/dist-packages (from tensorflow) (3.7.1)\n",
            "Requirement already satisfied: tensorboard<1.15.0,>=1.14.0 in /usr/local/lib/python3.6/dist-packages (from tensorflow) (1.14.0)\n",
            "Requirement already satisfied: termcolor>=1.1.0 in /usr/local/lib/python3.6/dist-packages (from tensorflow) (1.1.0)\n",
            "Requirement already satisfied: grpcio>=1.8.6 in /usr/local/lib/python3.6/dist-packages (from tensorflow) (1.15.0)\n",
            "Requirement already satisfied: wheel>=0.26 in /usr/local/lib/python3.6/dist-packages (from tensorflow) (0.33.4)\n",
            "Requirement already satisfied: astor>=0.6.0 in /usr/local/lib/python3.6/dist-packages (from tensorflow) (0.8.0)\n",
            "Requirement already satisfied: six>=1.10.0 in /usr/local/lib/python3.6/dist-packages (from tensorflow) (1.12.0)\n",
            "Requirement already satisfied: wrapt>=1.11.1 in /usr/local/lib/python3.6/dist-packages (from tensorflow) (1.11.2)\n",
            "Collecting numpy<2.0,>=1.14.5 (from tensorflow)\n",
            "  Using cached https://files.pythonhosted.org/packages/19/b9/bda9781f0a74b90ebd2e046fde1196182900bd4a8e1ea503d3ffebc50e7c/numpy-1.17.0-cp36-cp36m-manylinux1_x86_64.whl\n",
            "Requirement already satisfied: keras-applications>=1.0.6 in /usr/local/lib/python3.6/dist-packages (from tensorflow) (1.0.8)\n",
            "Requirement already satisfied: absl-py>=0.7.0 in /usr/local/lib/python3.6/dist-packages (from tensorflow) (0.7.1)\n",
            "Requirement already satisfied: google-pasta>=0.1.6 in /usr/local/lib/python3.6/dist-packages (from tensorflow) (0.1.7)\n",
            "Requirement already satisfied: tensorflow-estimator<1.15.0rc0,>=1.14.0rc0 in /usr/local/lib/python3.6/dist-packages (from tensorflow) (1.14.0)\n",
            "Requirement already satisfied: gast>=0.2.0 in /usr/local/lib/python3.6/dist-packages (from tensorflow) (0.2.2)\n",
            "Requirement already satisfied: keras-preprocessing>=1.0.5 in /usr/local/lib/python3.6/dist-packages (from tensorflow) (1.1.0)\n",
            "Requirement already satisfied: setuptools in /usr/local/lib/python3.6/dist-packages (from protobuf>=3.6.1->tensorflow) (41.2.0)\n",
            "Requirement already satisfied: markdown>=2.6.8 in /usr/local/lib/python3.6/dist-packages (from tensorboard<1.15.0,>=1.14.0->tensorflow) (3.1.1)\n",
            "Requirement already satisfied: werkzeug>=0.11.15 in /usr/local/lib/python3.6/dist-packages (from tensorboard<1.15.0,>=1.14.0->tensorflow) (0.15.5)\n",
            "Requirement already satisfied: h5py in /usr/local/lib/python3.6/dist-packages (from keras-applications>=1.0.6->tensorflow) (2.8.0)\n",
            "\u001b[31mERROR: yellowbrick 0.9.1 requires scipy>=1.0.0, which is not installed.\u001b[0m\n",
            "\u001b[31mERROR: xgboost 0.90 requires scipy, which is not installed.\u001b[0m\n",
            "\u001b[31mERROR: umap-learn 0.3.9 requires scipy>=0.19, which is not installed.\u001b[0m\n",
            "\u001b[31mERROR: theano 1.0.4 requires scipy>=0.14, which is not installed.\u001b[0m\n",
            "\u001b[31mERROR: tensor2tensor 1.11.0 requires scipy, which is not installed.\u001b[0m\n",
            "\u001b[31mERROR: statsmodels 0.10.1 requires scipy>=0.18, which is not installed.\u001b[0m\n",
            "\u001b[31mERROR: sklearn-pandas 1.8.0 requires scipy>=0.14, which is not installed.\u001b[0m\n",
            "\u001b[31mERROR: seaborn 0.9.0 requires scipy>=0.14.0, which is not installed.\u001b[0m\n",
            "\u001b[31mERROR: scs 2.1.1.post2 requires scipy>=0.13.2, which is not installed.\u001b[0m\n",
            "\u001b[31mERROR: scikit-learn 0.21.3 requires scipy>=0.17.0, which is not installed.\u001b[0m\n",
            "\u001b[31mERROR: resampy 0.2.1 requires scipy>=0.13, which is not installed.\u001b[0m\n",
            "\u001b[31mERROR: pymc3 3.7 requires scipy>=0.18.1, which is not installed.\u001b[0m\n",
            "\u001b[31mERROR: plotnine 0.5.1 requires scipy>=1.0.0, which is not installed.\u001b[0m\n",
            "\u001b[31mERROR: osqp 0.5.0 requires scipy>=0.13.2, which is not installed.\u001b[0m\n",
            "\u001b[31mERROR: mlxtend 0.14.0 requires scipy>=0.17, which is not installed.\u001b[0m\n",
            "\u001b[31mERROR: missingno 0.4.2 requires scipy, which is not installed.\u001b[0m\n",
            "\u001b[31mERROR: mir-eval 0.5 requires scipy>=1.0.0, which is not installed.\u001b[0m\n",
            "\u001b[31mERROR: matplotlib-venn 0.11.5 requires scipy, which is not installed.\u001b[0m\n",
            "\u001b[31mERROR: lucid 0.3.8 requires scipy, which is not installed.\u001b[0m\n",
            "\u001b[31mERROR: lightgbm 2.2.3 requires scipy, which is not installed.\u001b[0m\n",
            "\u001b[31mERROR: librosa 0.6.3 requires scipy>=1.0.0, which is not installed.\u001b[0m\n",
            "\u001b[31mERROR: keras-vis 0.4.1 requires keras, which is not installed.\u001b[0m\n",
            "\u001b[31mERROR: kapre 0.1.3.1 requires keras>=2.0.0, which is not installed.\u001b[0m\n",
            "\u001b[31mERROR: imgaug 0.2.9 requires scipy, which is not installed.\u001b[0m\n",
            "\u001b[31mERROR: imbalanced-learn 0.4.3 requires scipy>=0.13.3, which is not installed.\u001b[0m\n",
            "\u001b[31mERROR: hyperopt 0.1.2 requires scipy, which is not installed.\u001b[0m\n",
            "\u001b[31mERROR: gym 0.10.11 requires scipy, which is not installed.\u001b[0m\n",
            "\u001b[31mERROR: gensim 3.6.0 requires scipy>=0.18.1, which is not installed.\u001b[0m\n",
            "\u001b[31mERROR: fastai 1.0.57 requires scipy, which is not installed.\u001b[0m\n",
            "\u001b[31mERROR: fancyimpute 0.4.3 requires keras>=2.0.0, which is not installed.\u001b[0m\n",
            "\u001b[31mERROR: fancyimpute 0.4.3 requires scipy, which is not installed.\u001b[0m\n",
            "\u001b[31mERROR: fa2 0.3.5 requires scipy, which is not installed.\u001b[0m\n",
            "\u001b[31mERROR: ecos 2.0.7.post1 requires scipy>=0.9, which is not installed.\u001b[0m\n",
            "\u001b[31mERROR: cvxpy 1.0.24 requires scipy>=1.1.0, which is not installed.\u001b[0m\n",
            "Installing collected packages: numpy, tensorflow\n",
            "Successfully installed numpy-1.17.0 tensorflow-1.14.0\n"
          ],
          "name": "stdout"
        },
        {
          "output_type": "display_data",
          "data": {
            "application/vnd.colab-display-data+json": {
              "pip_warning": {
                "packages": [
                  "numpy"
                ]
              }
            }
          },
          "metadata": {
            "tags": []
          }
        },
        {
          "output_type": "stream",
          "text": [
            "Collecting keras\n",
            "\u001b[?25l  Downloading https://files.pythonhosted.org/packages/f8/ba/2d058dcf1b85b9c212cc58264c98a4a7dd92c989b798823cc5690d062bb2/Keras-2.2.5-py2.py3-none-any.whl (336kB)\n",
            "\u001b[K     |████████████████████████████████| 337kB 5.1MB/s \n",
            "\u001b[?25hRequirement already satisfied: keras-preprocessing>=1.1.0 in /usr/local/lib/python3.6/dist-packages (from keras) (1.1.0)\n",
            "Collecting scipy>=0.14 (from keras)\n",
            "  Using cached https://files.pythonhosted.org/packages/29/50/a552a5aff252ae915f522e44642bb49a7b7b31677f9580cfd11bcc869976/scipy-1.3.1-cp36-cp36m-manylinux1_x86_64.whl\n",
            "Requirement already satisfied: keras-applications>=1.0.8 in /usr/local/lib/python3.6/dist-packages (from keras) (1.0.8)\n",
            "Requirement already satisfied: numpy>=1.9.1 in /usr/local/lib/python3.6/dist-packages (from keras) (1.17.0)\n",
            "Requirement already satisfied: pyyaml in /usr/local/lib/python3.6/dist-packages (from keras) (3.13)\n",
            "Requirement already satisfied: six>=1.9.0 in /usr/local/lib/python3.6/dist-packages (from keras) (1.12.0)\n",
            "Requirement already satisfied: h5py in /usr/local/lib/python3.6/dist-packages (from keras) (2.8.0)\n",
            "Installing collected packages: scipy, keras\n",
            "Successfully installed keras-2.2.5 scipy-1.3.1\n"
          ],
          "name": "stdout"
        }
      ]
    },
    {
      "cell_type": "code",
      "metadata": {
        "id": "wsW24yC3i4-R",
        "colab_type": "code",
        "colab": {}
      },
      "source": [
        "import math\n",
        "import numpy as np\n",
        "from sklearn.datasets import load_digits\n",
        "from sklearn.model_selection import train_test_split\n",
        "\n",
        "from keras import backend as K\n",
        "\n",
        "from keras.optimizers import SGD, Adam\n",
        "from keras.layers import Dense\n",
        "\n",
        "from keras.layers import Input\n",
        "from keras.models import Model\n",
        "\n",
        "from neural_tensor_layer import NeuralTensorLayer\n",
        "\n",
        "\n",
        "def get_data():\n",
        "  digits = load_digits()\n",
        "  return train_test_split(digits.data.astype(np.float32), digits.target.astype(np.float32))"
      ],
      "execution_count": 0,
      "outputs": []
    },
    {
      "cell_type": "code",
      "metadata": {
        "id": "rGTQfjO6kg1L",
        "colab_type": "code",
        "outputId": "30bb5514-ca0d-41cc-a12c-8a25ad166318",
        "colab": {
          "base_uri": "https://localhost:8080/",
          "height": 1000
        }
      },
      "source": [
        "if True:\n",
        "  input1 = Input(shape=(64,), dtype='float32')\n",
        "  input2 = Input(shape=(64,), dtype='float32')\n",
        "  btp = NeuralTensorLayer(output_dim=32, input_dim=64)([input1, input2])\n",
        "\n",
        "  p = Dense(units=1)(btp)\n",
        "  model = Model(inputs=[input1, input2], outputs=[p])\n",
        "\n",
        "  sgd = SGD(lr=0.00000001, decay=1e-6, momentum=0.9, nesterov=True)\n",
        "  adam = Adam()\n",
        "  model.compile(loss='mean_squared_error', optimizer=adam)\n",
        "  model.summary()\n",
        "  X_train, X_test, Y_train, Y_test = get_data()\n",
        "  #X_train = X_train.astype(np.float32)\n",
        "  #Y_train = Y_train.astype(np.float32)\n",
        "  #X_test = X_test.astype(np.float32)\n",
        "  #Y_test = Y_test.astype(np.float32)\n",
        "  print('# train: ', len(X_train))\n",
        "  print('# test: ', len(Y_train))\n",
        "  #print(X_test[0])\n",
        "  #print(Y_test)\n",
        "\n",
        "  model.fit([X_train, X_train], Y_train, \n",
        "            validation_data=[[X_test, X_test], Y_test],\n",
        "            epochs=50, batch_size=5, verbose=2)\n"
      ],
      "execution_count": 0,
      "outputs": [
        {
          "output_type": "stream",
          "text": [
            "Model: \"model_12\"\n",
            "__________________________________________________________________________________________________\n",
            "Layer (type)                    Output Shape         Param #     Connected to                     \n",
            "==================================================================================================\n",
            "input_23 (InputLayer)           (None, 64)           0                                            \n",
            "__________________________________________________________________________________________________\n",
            "input_24 (InputLayer)           (None, 64)           0                                            \n",
            "__________________________________________________________________________________________________\n",
            "neural_tensor_layer_12 (NeuralT (None, 32)           135232      input_23[0][0]                   \n",
            "                                                                 input_24[0][0]                   \n",
            "__________________________________________________________________________________________________\n",
            "dense_12 (Dense)                (None, 1)            33          neural_tensor_layer_12[0][0]     \n",
            "==================================================================================================\n",
            "Total params: 135,265\n",
            "Trainable params: 135,265\n",
            "Non-trainable params: 0\n",
            "__________________________________________________________________________________________________\n",
            "# train:  1347\n",
            "# test:  1347\n",
            "Train on 1347 samples, validate on 450 samples\n",
            "Epoch 1/50\n",
            " - 6s - loss: 28.2671 - val_loss: 18.9649\n",
            "Epoch 2/50\n",
            " - 3s - loss: 14.7616 - val_loss: 11.4861\n",
            "Epoch 3/50\n",
            " - 3s - loss: 10.8884 - val_loss: 9.2555\n",
            "Epoch 4/50\n",
            " - 3s - loss: 10.1366 - val_loss: 8.9338\n",
            "Epoch 5/50\n",
            " - 3s - loss: 9.3246 - val_loss: 8.8351\n",
            "Epoch 6/50\n",
            " - 3s - loss: 9.1923 - val_loss: 8.5666\n",
            "Epoch 7/50\n",
            " - 3s - loss: 9.2357 - val_loss: 8.1169\n",
            "Epoch 8/50\n",
            " - 3s - loss: 8.9138 - val_loss: 8.1614\n",
            "Epoch 9/50\n",
            " - 3s - loss: 8.9864 - val_loss: 8.0670\n",
            "Epoch 10/50\n",
            " - 3s - loss: 8.7325 - val_loss: 7.9763\n",
            "Epoch 11/50\n",
            " - 3s - loss: 8.8422 - val_loss: 8.2253\n",
            "Epoch 12/50\n",
            " - 3s - loss: 8.5948 - val_loss: 8.1628\n",
            "Epoch 13/50\n",
            " - 3s - loss: 8.3630 - val_loss: 8.1099\n",
            "Epoch 14/50\n",
            " - 3s - loss: 8.5264 - val_loss: 7.9665\n",
            "Epoch 15/50\n",
            " - 3s - loss: 8.3247 - val_loss: 8.0109\n",
            "Epoch 16/50\n",
            " - 3s - loss: 8.5637 - val_loss: 7.9926\n",
            "Epoch 17/50\n",
            " - 3s - loss: 8.5245 - val_loss: 7.9748\n",
            "Epoch 18/50\n",
            " - 3s - loss: 8.7230 - val_loss: 7.9201\n",
            "Epoch 19/50\n",
            " - 3s - loss: 8.6597 - val_loss: 7.9548\n",
            "Epoch 20/50\n",
            " - 3s - loss: 8.5532 - val_loss: 7.8640\n",
            "Epoch 21/50\n",
            " - 3s - loss: 8.6682 - val_loss: 7.9029\n",
            "Epoch 22/50\n",
            " - 3s - loss: 8.2899 - val_loss: 7.7833\n",
            "Epoch 23/50\n",
            " - 3s - loss: 8.4293 - val_loss: 7.7332\n",
            "Epoch 24/50\n"
          ],
          "name": "stdout"
        },
        {
          "output_type": "error",
          "ename": "KeyboardInterrupt",
          "evalue": "ignored",
          "traceback": [
            "\u001b[0;31m---------------------------------------------------------------------------\u001b[0m",
            "\u001b[0;31mKeyboardInterrupt\u001b[0m                         Traceback (most recent call last)",
            "\u001b[0;32m<ipython-input-27-898ae2443c67>\u001b[0m in \u001b[0;36m<module>\u001b[0;34m()\u001b[0m\n\u001b[1;32m     23\u001b[0m   model.fit([X_train, X_train], Y_train, \n\u001b[1;32m     24\u001b[0m             \u001b[0mvalidation_data\u001b[0m\u001b[0;34m=\u001b[0m\u001b[0;34m[\u001b[0m\u001b[0;34m[\u001b[0m\u001b[0mX_test\u001b[0m\u001b[0;34m,\u001b[0m \u001b[0mX_test\u001b[0m\u001b[0;34m]\u001b[0m\u001b[0;34m,\u001b[0m \u001b[0mY_test\u001b[0m\u001b[0;34m]\u001b[0m\u001b[0;34m,\u001b[0m\u001b[0;34m\u001b[0m\u001b[0;34m\u001b[0m\u001b[0m\n\u001b[0;32m---> 25\u001b[0;31m             epochs=50, batch_size=5, verbose=2)\n\u001b[0m",
            "\u001b[0;32m/usr/local/lib/python3.6/dist-packages/keras/engine/training.py\u001b[0m in \u001b[0;36mfit\u001b[0;34m(self, x, y, batch_size, epochs, verbose, callbacks, validation_split, validation_data, shuffle, class_weight, sample_weight, initial_epoch, steps_per_epoch, validation_steps, validation_freq, max_queue_size, workers, use_multiprocessing, **kwargs)\u001b[0m\n\u001b[1;32m   1176\u001b[0m                                         \u001b[0msteps_per_epoch\u001b[0m\u001b[0;34m=\u001b[0m\u001b[0msteps_per_epoch\u001b[0m\u001b[0;34m,\u001b[0m\u001b[0;34m\u001b[0m\u001b[0;34m\u001b[0m\u001b[0m\n\u001b[1;32m   1177\u001b[0m                                         \u001b[0mvalidation_steps\u001b[0m\u001b[0;34m=\u001b[0m\u001b[0mvalidation_steps\u001b[0m\u001b[0;34m,\u001b[0m\u001b[0;34m\u001b[0m\u001b[0;34m\u001b[0m\u001b[0m\n\u001b[0;32m-> 1178\u001b[0;31m                                         validation_freq=validation_freq)\n\u001b[0m\u001b[1;32m   1179\u001b[0m \u001b[0;34m\u001b[0m\u001b[0m\n\u001b[1;32m   1180\u001b[0m     def evaluate(self,\n",
            "\u001b[0;32m/usr/local/lib/python3.6/dist-packages/keras/engine/training_arrays.py\u001b[0m in \u001b[0;36mfit_loop\u001b[0;34m(model, fit_function, fit_inputs, out_labels, batch_size, epochs, verbose, callbacks, val_function, val_inputs, shuffle, callback_metrics, initial_epoch, steps_per_epoch, validation_steps, validation_freq)\u001b[0m\n\u001b[1;32m    202\u001b[0m                     \u001b[0mins_batch\u001b[0m\u001b[0;34m[\u001b[0m\u001b[0mi\u001b[0m\u001b[0;34m]\u001b[0m \u001b[0;34m=\u001b[0m \u001b[0mins_batch\u001b[0m\u001b[0;34m[\u001b[0m\u001b[0mi\u001b[0m\u001b[0;34m]\u001b[0m\u001b[0;34m.\u001b[0m\u001b[0mtoarray\u001b[0m\u001b[0;34m(\u001b[0m\u001b[0;34m)\u001b[0m\u001b[0;34m\u001b[0m\u001b[0;34m\u001b[0m\u001b[0m\n\u001b[1;32m    203\u001b[0m \u001b[0;34m\u001b[0m\u001b[0m\n\u001b[0;32m--> 204\u001b[0;31m                 \u001b[0mouts\u001b[0m \u001b[0;34m=\u001b[0m \u001b[0mfit_function\u001b[0m\u001b[0;34m(\u001b[0m\u001b[0mins_batch\u001b[0m\u001b[0;34m)\u001b[0m\u001b[0;34m\u001b[0m\u001b[0;34m\u001b[0m\u001b[0m\n\u001b[0m\u001b[1;32m    205\u001b[0m                 \u001b[0mouts\u001b[0m \u001b[0;34m=\u001b[0m \u001b[0mto_list\u001b[0m\u001b[0;34m(\u001b[0m\u001b[0mouts\u001b[0m\u001b[0;34m)\u001b[0m\u001b[0;34m\u001b[0m\u001b[0;34m\u001b[0m\u001b[0m\n\u001b[1;32m    206\u001b[0m                 \u001b[0;32mfor\u001b[0m \u001b[0ml\u001b[0m\u001b[0;34m,\u001b[0m \u001b[0mo\u001b[0m \u001b[0;32min\u001b[0m \u001b[0mzip\u001b[0m\u001b[0;34m(\u001b[0m\u001b[0mout_labels\u001b[0m\u001b[0;34m,\u001b[0m \u001b[0mouts\u001b[0m\u001b[0;34m)\u001b[0m\u001b[0;34m:\u001b[0m\u001b[0;34m\u001b[0m\u001b[0;34m\u001b[0m\u001b[0m\n",
            "\u001b[0;32m/usr/local/lib/python3.6/dist-packages/keras/backend/tensorflow_backend.py\u001b[0m in \u001b[0;36m__call__\u001b[0;34m(self, inputs)\u001b[0m\n\u001b[1;32m   2977\u001b[0m                     \u001b[0;32mreturn\u001b[0m \u001b[0mself\u001b[0m\u001b[0;34m.\u001b[0m\u001b[0m_legacy_call\u001b[0m\u001b[0;34m(\u001b[0m\u001b[0minputs\u001b[0m\u001b[0;34m)\u001b[0m\u001b[0;34m\u001b[0m\u001b[0;34m\u001b[0m\u001b[0m\n\u001b[1;32m   2978\u001b[0m \u001b[0;34m\u001b[0m\u001b[0m\n\u001b[0;32m-> 2979\u001b[0;31m             \u001b[0;32mreturn\u001b[0m \u001b[0mself\u001b[0m\u001b[0;34m.\u001b[0m\u001b[0m_call\u001b[0m\u001b[0;34m(\u001b[0m\u001b[0minputs\u001b[0m\u001b[0;34m)\u001b[0m\u001b[0;34m\u001b[0m\u001b[0;34m\u001b[0m\u001b[0m\n\u001b[0m\u001b[1;32m   2980\u001b[0m         \u001b[0;32melse\u001b[0m\u001b[0;34m:\u001b[0m\u001b[0;34m\u001b[0m\u001b[0;34m\u001b[0m\u001b[0m\n\u001b[1;32m   2981\u001b[0m             \u001b[0;32mif\u001b[0m \u001b[0mpy_any\u001b[0m\u001b[0;34m(\u001b[0m\u001b[0mis_tensor\u001b[0m\u001b[0;34m(\u001b[0m\u001b[0mx\u001b[0m\u001b[0;34m)\u001b[0m \u001b[0;32mfor\u001b[0m \u001b[0mx\u001b[0m \u001b[0;32min\u001b[0m \u001b[0minputs\u001b[0m\u001b[0;34m)\u001b[0m\u001b[0;34m:\u001b[0m\u001b[0;34m\u001b[0m\u001b[0;34m\u001b[0m\u001b[0m\n",
            "\u001b[0;32m/usr/local/lib/python3.6/dist-packages/keras/backend/tensorflow_backend.py\u001b[0m in \u001b[0;36m_call\u001b[0;34m(self, inputs)\u001b[0m\n\u001b[1;32m   2935\u001b[0m             \u001b[0mfetched\u001b[0m \u001b[0;34m=\u001b[0m \u001b[0mself\u001b[0m\u001b[0;34m.\u001b[0m\u001b[0m_callable_fn\u001b[0m\u001b[0;34m(\u001b[0m\u001b[0;34m*\u001b[0m\u001b[0marray_vals\u001b[0m\u001b[0;34m,\u001b[0m \u001b[0mrun_metadata\u001b[0m\u001b[0;34m=\u001b[0m\u001b[0mself\u001b[0m\u001b[0;34m.\u001b[0m\u001b[0mrun_metadata\u001b[0m\u001b[0;34m)\u001b[0m\u001b[0;34m\u001b[0m\u001b[0;34m\u001b[0m\u001b[0m\n\u001b[1;32m   2936\u001b[0m         \u001b[0;32melse\u001b[0m\u001b[0;34m:\u001b[0m\u001b[0;34m\u001b[0m\u001b[0;34m\u001b[0m\u001b[0m\n\u001b[0;32m-> 2937\u001b[0;31m             \u001b[0mfetched\u001b[0m \u001b[0;34m=\u001b[0m \u001b[0mself\u001b[0m\u001b[0;34m.\u001b[0m\u001b[0m_callable_fn\u001b[0m\u001b[0;34m(\u001b[0m\u001b[0;34m*\u001b[0m\u001b[0marray_vals\u001b[0m\u001b[0;34m)\u001b[0m\u001b[0;34m\u001b[0m\u001b[0;34m\u001b[0m\u001b[0m\n\u001b[0m\u001b[1;32m   2938\u001b[0m         \u001b[0;32mreturn\u001b[0m \u001b[0mfetched\u001b[0m\u001b[0;34m[\u001b[0m\u001b[0;34m:\u001b[0m\u001b[0mlen\u001b[0m\u001b[0;34m(\u001b[0m\u001b[0mself\u001b[0m\u001b[0;34m.\u001b[0m\u001b[0moutputs\u001b[0m\u001b[0;34m)\u001b[0m\u001b[0;34m]\u001b[0m\u001b[0;34m\u001b[0m\u001b[0;34m\u001b[0m\u001b[0m\n\u001b[1;32m   2939\u001b[0m \u001b[0;34m\u001b[0m\u001b[0m\n",
            "\u001b[0;32m/usr/local/lib/python3.6/dist-packages/tensorflow/python/client/session.py\u001b[0m in \u001b[0;36m__call__\u001b[0;34m(self, *args, **kwargs)\u001b[0m\n\u001b[1;32m   1456\u001b[0m         ret = tf_session.TF_SessionRunCallable(self._session._session,\n\u001b[1;32m   1457\u001b[0m                                                \u001b[0mself\u001b[0m\u001b[0;34m.\u001b[0m\u001b[0m_handle\u001b[0m\u001b[0;34m,\u001b[0m \u001b[0margs\u001b[0m\u001b[0;34m,\u001b[0m\u001b[0;34m\u001b[0m\u001b[0;34m\u001b[0m\u001b[0m\n\u001b[0;32m-> 1458\u001b[0;31m                                                run_metadata_ptr)\n\u001b[0m\u001b[1;32m   1459\u001b[0m         \u001b[0;32mif\u001b[0m \u001b[0mrun_metadata\u001b[0m\u001b[0;34m:\u001b[0m\u001b[0;34m\u001b[0m\u001b[0;34m\u001b[0m\u001b[0m\n\u001b[1;32m   1460\u001b[0m           \u001b[0mproto_data\u001b[0m \u001b[0;34m=\u001b[0m \u001b[0mtf_session\u001b[0m\u001b[0;34m.\u001b[0m\u001b[0mTF_GetBuffer\u001b[0m\u001b[0;34m(\u001b[0m\u001b[0mrun_metadata_ptr\u001b[0m\u001b[0;34m)\u001b[0m\u001b[0;34m\u001b[0m\u001b[0;34m\u001b[0m\u001b[0m\n",
            "\u001b[0;31mKeyboardInterrupt\u001b[0m: "
          ]
        }
      ]
    },
    {
      "cell_type": "code",
      "metadata": {
        "id": "g6NV-8R2kmuP",
        "colab_type": "code",
        "outputId": "2620c00c-568e-406d-f573-aeb908ccb0ac",
        "colab": {
          "base_uri": "https://localhost:8080/",
          "height": 1000
        }
      },
      "source": [
        "if True:\n",
        "  score = model.evaluate([X_test, X_test], Y_test, batch_size=1)\n",
        "  print('score: ', str(score))\n",
        "  print()\n",
        "\n",
        "  print(K.get_value(model.layers[2].W))\n"
      ],
      "execution_count": 0,
      "outputs": [
        {
          "output_type": "stream",
          "text": [
            "450/450 [==============================] - 0s 1ms/step\n",
            "score:  9.453804934220353\n",
            "\n",
            "[[[ 1.26380491e+00  6.57655299e-01 -1.68283272e+00 ... -2.22671464e-01\n",
            "    5.57863593e-01 -3.54998022e-01]\n",
            "  [ 2.70080388e-01 -1.01768121e-01  4.11676347e-01 ... -4.15864527e-01\n",
            "   -6.89093113e-01  1.71658242e+00]\n",
            "  [-1.25637257e+00  5.25018156e-01  3.84043038e-01 ...  9.20813620e-01\n",
            "   -1.52566969e-01 -4.85477120e-01]\n",
            "  ...\n",
            "  [ 2.09215447e-01  1.38854480e+00  1.03829026e+00 ... -1.63703203e-01\n",
            "    7.40418509e-02  4.63127166e-01]\n",
            "  [-1.17794073e+00  8.22257757e-01  2.02098981e-01 ... -2.86431432e-01\n",
            "   -1.85556507e+00 -1.37682128e+00]\n",
            "  [ 9.28676277e-02 -7.18198538e-01  1.76197410e-01 ...  2.83142149e-01\n",
            "   -7.44187832e-01 -3.40842009e-01]]\n",
            "\n",
            " [[ 6.65362954e-01 -6.50534689e-01 -2.24742025e-01 ... -9.83015954e-01\n",
            "   -1.71541050e-01  1.59002870e-01]\n",
            "  [ 4.66324151e-01  1.72135150e+00  2.06603304e-01 ...  3.70541662e-02\n",
            "    1.45804071e+00 -1.99863815e+00]\n",
            "  [-1.11581767e+00  1.57333267e+00 -2.64082968e-01 ...  1.55123067e-03\n",
            "    1.77469838e+00 -1.06941789e-01]\n",
            "  ...\n",
            "  [-1.83284557e+00 -3.07597190e-01  2.48222604e-01 ... -8.00009429e-01\n",
            "    1.29995787e+00 -1.00233471e+00]\n",
            "  [ 1.60399783e+00  6.13141537e-01  1.09744608e+00 ...  3.67050529e-01\n",
            "    3.56358856e-01  1.18999824e-01]\n",
            "  [-2.89745301e-01  3.18634599e-01 -1.28421694e-01 ... -1.23209178e+00\n",
            "    7.88023770e-01 -1.03338635e+00]]\n",
            "\n",
            " [[-2.54481643e-01  8.31384897e-01 -9.64695960e-02 ...  5.93850240e-02\n",
            "   -1.68155396e+00 -7.94422507e-01]\n",
            "  [-1.65905729e-02  4.62634832e-01 -5.12944460e-01 ...  2.21171300e-03\n",
            "    4.36089188e-01 -1.38078368e+00]\n",
            "  [-6.39048338e-01  1.35280275e+00 -1.06049716e-01 ...  1.35025215e+00\n",
            "   -1.60644186e+00  7.03733265e-01]\n",
            "  ...\n",
            "  [ 5.01706481e-01 -4.78755772e-01 -3.04442078e-01 ...  4.05452520e-01\n",
            "    1.45218849e-01 -1.01498425e+00]\n",
            "  [ 1.15258491e+00 -2.92972654e-01 -5.82546771e-01 ... -5.13076603e-01\n",
            "   -8.64388049e-01  6.58230662e-01]\n",
            "  [ 1.22817528e+00 -6.72577798e-01  9.75733697e-01 ... -5.37017226e-01\n",
            "    3.88316631e-01  9.10145819e-01]]\n",
            "\n",
            " ...\n",
            "\n",
            " [[-8.59193683e-01 -1.03582263e+00  9.57337260e-01 ...  1.01621199e+00\n",
            "    2.20989451e-01 -1.73652279e+00]\n",
            "  [-1.54535019e+00  3.60022128e-01 -6.71615124e-01 ... -4.62003089e-02\n",
            "    1.36389148e+00  1.07137966e+00]\n",
            "  [-1.01997650e+00 -5.85571527e-01  4.10488993e-01 ...  6.66856229e-01\n",
            "   -1.46134007e+00  1.62148011e+00]\n",
            "  ...\n",
            "  [-1.04026437e+00 -9.05649722e-01 -3.16812485e-01 ... -9.82505143e-01\n",
            "   -3.16243500e-01  4.49992508e-01]\n",
            "  [-2.67081738e-01  1.21862638e+00 -1.44388068e+00 ... -1.35889995e+00\n",
            "   -1.13248670e+00  4.57101583e-01]\n",
            "  [ 1.11939836e+00 -1.89956033e+00 -5.63998401e-01 ...  3.31864923e-01\n",
            "   -5.49075782e-01  2.83256590e-01]]\n",
            "\n",
            " [[ 9.30694520e-01  1.53642679e-02  3.00347388e-01 ... -1.00284088e+00\n",
            "    5.08650422e-01 -1.86178970e+00]\n",
            "  [-9.81743217e-01  2.60152906e-01 -4.92127270e-01 ...  6.39661431e-01\n",
            "   -1.94212392e-01  3.46000910e-01]\n",
            "  [-1.28904641e+00  1.68593988e-01 -7.50970125e-01 ...  7.03123352e-03\n",
            "   -1.29553246e+00  9.15341079e-02]\n",
            "  ...\n",
            "  [-4.44717444e-02  5.26152074e-01  5.09882867e-01 ... -1.12279630e+00\n",
            "   -2.26353824e-01 -1.24969006e+00]\n",
            "  [ 6.05073631e-01 -7.32541263e-01  5.16388953e-01 ... -2.74517119e-01\n",
            "   -7.67733335e-01  1.26533186e+00]\n",
            "  [-1.27107233e-01  1.64636183e+00 -2.26020932e-01 ... -7.87626743e-01\n",
            "    2.98992664e-01 -1.45592526e-01]]\n",
            "\n",
            " [[-1.53521383e+00  1.11306417e+00 -1.70810804e-01 ... -9.11005318e-01\n",
            "    5.37145659e-02  1.03369069e+00]\n",
            "  [ 3.88508886e-01  9.21278000e-01 -6.25860572e-01 ... -1.07051528e+00\n",
            "   -2.75476456e-01  1.17828119e+00]\n",
            "  [-1.98255450e-01 -6.55043960e-01  5.20977199e-01 ...  6.48643196e-01\n",
            "   -3.41158152e-01 -1.85658589e-01]\n",
            "  ...\n",
            "  [-6.70017064e-01 -8.57049882e-01 -3.33988637e-01 ... -2.64020026e-01\n",
            "   -2.69427925e-01  1.26911342e+00]\n",
            "  [-1.55792964e+00 -8.15501809e-01 -1.08116066e+00 ...  9.02173966e-02\n",
            "   -1.46987349e-01  8.42284262e-01]\n",
            "  [ 1.01985112e-01  1.57965195e+00  1.74998417e-01 ...  4.53658015e-01\n",
            "   -8.88845861e-01 -1.52330887e+00]]]\n"
          ],
          "name": "stdout"
        }
      ]
    },
    {
      "cell_type": "code",
      "metadata": {
        "id": "CZUyKxGjlFBy",
        "colab_type": "code",
        "colab": {}
      },
      "source": [
        ""
      ],
      "execution_count": 0,
      "outputs": []
    }
  ]
}